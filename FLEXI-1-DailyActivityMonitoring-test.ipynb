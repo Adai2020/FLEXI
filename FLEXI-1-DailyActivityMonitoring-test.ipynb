{
 "cells": [
  {
   "cell_type": "code",
   "execution_count": 7,
   "metadata": {},
   "outputs": [],
   "source": [
    "from imports import *\n",
    "from utils import *\n",
    "from model import *\n",
    "\n",
    "dataset = 'DailyActivityMonitoring(DAM)'\n",
    "\n",
    "batch_size = 8\n",
    "traindata_folder = 'raw\\\\DailyActivityMonitoring\\\\testdata'\n",
    "samples, labels = load_dataset(folder_path = traindata_folder)\n",
    "traindataset = TimeSeriesDataset(samples, labels)\n",
    "train_loader = DataLoader(traindataset, batch_size=batch_size, shuffle=True)\n",
    "\n",
    "testdata_folder = 'raw\\\\DailyActivityMonitoring\\\\testdata'\n",
    "samples, labels = load_dataset(folder_path = testdata_folder)\n",
    "testdataset = TimeSeriesDataset(samples, labels)\n",
    "test_loader = DataLoader(testdataset, batch_size=1, shuffle=False)"
   ]
  },
  {
   "cell_type": "code",
   "execution_count": 15,
   "metadata": {},
   "outputs": [
    {
     "name": "stdout",
     "output_type": "stream",
     "text": [
      "The network has 122 weights that need to be deployed.\n"
     ]
    }
   ],
   "source": [
    "num_classes = 5\n",
    "\n",
    "model = NET_1k_DAM(num_classes = num_classes)\n",
    "\n",
    "total_weights = count_weights(model)\n",
    "print(f\"The network has {total_weights} weights that need to be deployed.\")\n",
    "\n",
    "model.qconfig = torch.quantization.get_default_qat_qconfig('fbgemm')\n",
    "model = torch.quantization.prepare_qat(model, inplace=True)\n",
    "model = torch.quantization.convert(model, inplace=True)"
   ]
  },
  {
   "cell_type": "code",
   "execution_count": 10,
   "metadata": {},
   "outputs": [
    {
     "name": "stdout",
     "output_type": "stream",
     "text": [
      "NET_1k_DAM(\n",
      "  (channel1_conv): Sequential(\n",
      "    (0): QuantizedConv1d(1, 3, kernel_size=(3,), stride=(1,), scale=0.029236789792776108, zero_point=15, padding=(1,))\n",
      "    (1): ReLU()\n",
      "    (2): QuantizedConv1d(3, 2, kernel_size=(3,), stride=(1,), scale=0.2035026252269745, zero_point=75, padding=(1,))\n",
      "    (3): ReLU()\n",
      "  )\n",
      "  (channel2_conv): Sequential(\n",
      "    (0): QuantizedConv1d(1, 3, kernel_size=(3,), stride=(1,), scale=0.030810095369815826, zero_point=66, padding=(1,))\n",
      "    (1): ReLU()\n",
      "    (2): QuantizedConv1d(3, 2, kernel_size=(3,), stride=(1,), scale=0.02409001998603344, zero_point=6, padding=(1,))\n",
      "    (3): ReLU()\n",
      "  )\n",
      "  (channel3_conv): Sequential(\n",
      "    (0): QuantizedConv1d(1, 2, kernel_size=(3,), stride=(1,), scale=0.039328593760728836, zero_point=3, padding=(1,))\n",
      "    (1): ReLU()\n",
      "    (2): QuantizedConv1d(2, 2, kernel_size=(2,), stride=(1,), scale=0.182743102312088, zero_point=19, padding=(1,))\n",
      "    (3): ReLU()\n",
      "  )\n",
      "  (channel4_conv): Sequential(\n",
      "    (0): QuantizedConv1d(1, 2, kernel_size=(3,), stride=(1,), scale=0.04404871538281441, zero_point=25, padding=(1,))\n",
      "    (1): ReLU()\n",
      "    (2): QuantizedConv1d(2, 2, kernel_size=(2,), stride=(1,), scale=0.17465218901634216, zero_point=39, padding=(1,))\n",
      "    (3): ReLU()\n",
      "  )\n",
      "  (gap1): AdaptiveAvgPool1d(output_size=1)\n",
      "  (gap2): AdaptiveAvgPool1d(output_size=1)\n",
      "  (gap3): AdaptiveAvgPool1d(output_size=1)\n",
      "  (gap4): AdaptiveAvgPool1d(output_size=1)\n",
      "  (fc): Sequential(\n",
      "    (0): QuantizedLinear(in_features=8, out_features=5, scale=0.395243376493454, zero_point=97, qscheme=torch.per_channel_affine)\n",
      "  )\n",
      "  (quant): Quantize(scale=tensor([0.0071]), zero_point=tensor([0]), dtype=torch.quint8)\n",
      "  (dequant): DeQuantize()\n",
      ")\n"
     ]
    }
   ],
   "source": [
    "# Load Model\n",
    "device = torch.device(\"cuda\" if torch.cuda.is_available() else \"cpu\")\n",
    "\n",
    "model_filename = f\"checkpoint/DAM-122-97.40_model.t7\"\n",
    "\n",
    "checkpoint = torch.load(model_filename, map_location=device)\n",
    "model.load_state_dict(checkpoint['model'])\n",
    "\n",
    "print(model) # The model has been quantized to int8"
   ]
  },
  {
   "cell_type": "code",
   "execution_count": 11,
   "metadata": {},
   "outputs": [
    {
     "name": "stdout",
     "output_type": "stream",
     "text": [
      "Extracting weights from layer: channel1_conv.0\n",
      "Weight Shape: (9,), Int8 Weights:\n",
      "[-128   45  -19  -39 -128  -59  127  109   61]\n",
      "\n",
      "Extracting weights from layer: channel1_conv.2\n",
      "Weight Shape: (18,), Int8 Weights:\n",
      "[ -20    6   17   39   92   62  -66 -127 -103    3   63   49  127   96\n",
      "   95  -40   22  -19]\n",
      "\n",
      "Extracting weights from layer: channel2_conv.0\n",
      "Weight Shape: (9,), Int8 Weights:\n",
      "[ 127   73  -23  127  105   64  -56  -59 -127]\n",
      "\n",
      "Extracting weights from layer: channel2_conv.2\n",
      "Weight Shape: (18,), Int8 Weights:\n",
      "[  -6   13   61  -29 -127 -127  -23   16  -64   36   78   20 -119 -125\n",
      "  -85  -69 -106 -128]\n",
      "\n",
      "Extracting weights from layer: channel3_conv.0\n",
      "Weight Shape: (6,), Int8 Weights:\n",
      "[-128  -98   16  127  120   94]\n",
      "\n",
      "Extracting weights from layer: channel3_conv.2\n",
      "Weight Shape: (8,), Int8 Weights:\n",
      "[ -52 -128  -18   91   31  -57  127   43]\n",
      "\n",
      "Extracting weights from layer: channel4_conv.0\n",
      "Weight Shape: (6,), Int8 Weights:\n",
      "[-128   17  -82  127   70  102]\n",
      "\n",
      "Extracting weights from layer: channel4_conv.2\n",
      "Weight Shape: (8,), Int8 Weights:\n",
      "[ -27  -23  127   64  -47 -103 -127  -61]\n",
      "\n",
      "Extracting weights from layer: fc.0\n",
      "Weight Shape: (40,), Int8 Weights:\n",
      "[ -83 -119 -128  -53   90   56   20   -6  -14   39   55   61 -128  -26\n",
      "  -72   25 -128  -97   46   81  -77   43   29    6   39   30    5  -66\n",
      "  -31 -128  -27    5 -128   28   30   20  -83  -15    9    7]\n",
      "\n"
     ]
    }
   ],
   "source": [
    "quantized_weights_list = print_quantized_weights(model)"
   ]
  },
  {
   "cell_type": "code",
   "execution_count": 12,
   "metadata": {},
   "outputs": [
    {
     "name": "stdout",
     "output_type": "stream",
     "text": [
      "The test accuracy after quantization is: 97.40%\n"
     ]
    },
    {
     "data": {
      "image/png": "[encoded data removed]",
      "text/plain": [
       "<Figure size 300x300 with 2 Axes>"
      ]
     },
     "metadata": {},
     "output_type": "display_data"
    }
   ],
   "source": [
    "model.eval()\n",
    "correct = 0\n",
    "total = 0\n",
    "\n",
    "predicted_count = []\n",
    "labels_count = []\n",
    "\n",
    "with torch.no_grad():\n",
    "    for i, (x1, x2, x3, x4, labels) in enumerate(test_loader):\n",
    "        outputs = model(x1, x2, x3, x4)\n",
    "        _, predicted = torch.max(outputs, 1)\n",
    "        correct += (predicted == labels).sum().item()\n",
    "        total += labels.size(0)\n",
    "        predicted_count.append(predicted)\n",
    "        labels_count.append(labels)\n",
    "\n",
    "test_accuracy = 100 * correct / total\n",
    "\n",
    "true_labels = [d for d in os.listdir(testdata_folder) if os.path.isdir(os.path.join(testdata_folder, d))]\n",
    "conf_matrix = confusion_matrix(labels_count, predicted_count)\n",
    "disp = ConfusionMatrixDisplay(confusion_matrix=conf_matrix, display_labels=np.unique(true_labels))\n",
    "\n",
    "print(f\"The test accuracy after quantization is: {test_accuracy:.2f}%\")\n",
    "\n",
    "fig, ax = plt.subplots(figsize=(3, 3))\n",
    "disp.plot(ax=ax, cmap='Blues')\n",
    "plt.xticks(rotation=45)\n",
    "plt.title(f'test accuracy={test_accuracy:.2f}%')\n",
    "plt.show()"
   ]
  }
 ],
 "metadata": {
  "kernelspec": {
   "display_name": "Auto4ET",
   "language": "python",
   "name": "python3"
  },
  "language_info": {
   "codemirror_mode": {
    "name": "ipython",
    "version": 3
   },
   "file_extension": ".py",
   "mimetype": "text/x-python",
   "name": "python",
   "nbconvert_exporter": "python",
   "pygments_lexer": "ipython3",
   "version": "3.9.18"
  }
 },
 "nbformat": 4,
 "nbformat_minor": 2
}

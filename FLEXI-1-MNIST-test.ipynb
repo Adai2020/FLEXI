{
 "cells": [
  {
   "cell_type": "code",
   "execution_count": 6,
   "metadata": {},
   "outputs": [],
   "source": [
    "from imports import *\n",
    "from utils import *\n",
    "from model import *\n",
    "\n",
    "device = torch.device(\"cuda\" if torch.cuda.is_available() else \"cpu\")\n",
    "\n",
    "transform = transforms.Compose([\n",
    "    transforms.ToTensor(),\n",
    "    transforms.Normalize((0.1307,), (0.3081,))\n",
    "])\n",
    "\n",
    "dataset = 'MNIST'\n",
    "data_path = 'raw/'\n",
    "train_dataset = torchvision.datasets.MNIST(root=data_path, train=True, download=True, transform=transform)\n",
    "test_dataset = torchvision.datasets.MNIST(root=data_path, train=False, download=True, transform=transform)\n",
    "train_loader = DataLoader(train_dataset, batch_size=32, shuffle=True)\n",
    "test_loader = DataLoader(test_dataset, batch_size=32, shuffle=False)"
   ]
  },
  {
   "cell_type": "code",
   "execution_count": 8,
   "metadata": {},
   "outputs": [
    {
     "name": "stdout",
     "output_type": "stream",
     "text": [
      "The network has 123 weights that need to be deployed.\n"
     ]
    }
   ],
   "source": [
    "# Model Definition\n",
    "\n",
    "# Define the number of classes for the classification task\n",
    "num_classes = 10\n",
    "\n",
    "model = NET_1k_MNIST(num_classes).to(device)\n",
    "\n",
    "total_weights = count_weights(model)\n",
    "print(f\"The network has {total_weights} weights that need to be deployed.\")\n",
    "\n",
    "model.qconfig = torch.quantization.get_default_qat_qconfig('fbgemm')\n",
    "model = torch.quantization.prepare_qat(model, inplace=True)\n",
    "model = torch.quantization.convert(model, inplace=True)"
   ]
  },
  {
   "cell_type": "code",
   "execution_count": 9,
   "metadata": {},
   "outputs": [
    {
     "name": "stdout",
     "output_type": "stream",
     "text": [
      "NET_1k_MNIST(\n",
      "  (quant): Quantize(scale=tensor([0.0256]), zero_point=tensor([17]), dtype=torch.quint8)\n",
      "  (dequant): DeQuantize()\n",
      "  (conv1_depthwise): QuantizedConv2d(1, 1, kernel_size=(3, 3), stride=(1, 1), scale=0.30794036388397217, zero_point=95, padding=(1, 1), dilation=(2, 2))\n",
      "  (conv1_pointwise): QuantizedConv2d(1, 2, kernel_size=(1, 1), stride=(1, 1), scale=2.5187861919403076, zero_point=79)\n",
      "  (bn1): QuantizedBatchNorm2d(2, eps=1e-05, momentum=0.1, affine=True, track_running_stats=True)\n",
      "  (activation1): QuantizedHardswish()\n",
      "  (conv2_depthwise): QuantizedConv2d(2, 2, kernel_size=(3, 3), stride=(1, 1), scale=1.9942729473114014, zero_point=84, padding=(1, 1), dilation=(2, 2), groups=2)\n",
      "  (conv2_pointwise): QuantizedConv2d(2, 4, kernel_size=(1, 1), stride=(1, 1), scale=8.642030715942383, zero_point=55)\n",
      "  (bn2): QuantizedBatchNorm2d(4, eps=1e-05, momentum=0.1, affine=True, track_running_stats=True)\n",
      "  (activation2): QuantizedHardswish()\n",
      "  (conv3_depthwise): QuantizedConv2d(4, 4, kernel_size=(2, 2), stride=(1, 1), scale=0.4448994994163513, zero_point=76, padding=(1, 1), dilation=(2, 2), groups=4)\n",
      "  (conv3_pointwise): QuantizedConv2d(4, 5, kernel_size=(1, 1), stride=(1, 1), scale=3.0343234539031982, zero_point=50)\n",
      "  (bn3): QuantizedBatchNorm2d(5, eps=1e-05, momentum=0.1, affine=True, track_running_stats=True)\n",
      "  (activation3): QuantizedHardswish()\n",
      "  (pool): MaxPool2d(kernel_size=2, stride=2, padding=0, dilation=1, ceil_mode=False)\n",
      "  (gap): AdaptiveAvgPool2d(output_size=(1, 1))\n",
      "  (fc): QuantizedLinear(in_features=5, out_features=10, scale=0.3330897390842438, zero_point=100, qscheme=torch.per_channel_affine)\n",
      ")\n"
     ]
    }
   ],
   "source": [
    "# Load Pretrained Model\n",
    "\n",
    "# Specify the filename of the saved model\n",
    "model_filename = f\"checkpoint/MNIST-123-86.67_model.t7\"\n",
    "\n",
    "# Load the checkpoint from the file, mapping the model to the specified device\n",
    "checkpoint = torch.load(model_filename, map_location=device)\n",
    "model.load_state_dict(checkpoint['model'])\n",
    "\n",
    "print(model) # The model has been quantized to int8"
   ]
  },
  {
   "cell_type": "code",
   "execution_count": 10,
   "metadata": {},
   "outputs": [
    {
     "name": "stdout",
     "output_type": "stream",
     "text": [
      "Extracting weights from layer: conv1_depthwise\n",
      "Weight Shape: (9,), Int8 Weights:\n",
      "[ -78 -128  -71    6   12  -21   41   12    5]\n",
      "\n",
      "Extracting weights from layer: conv1_pointwise\n",
      "Weight Shape: (2,), Int8 Weights:\n",
      "[-128  127]\n",
      "\n",
      "Extracting weights from layer: conv2_depthwise\n",
      "Weight Shape: (18,), Int8 Weights:\n",
      "[ -20   37   86  -63  -82 -103  -73 -128  -21   30   -6  -39  111  127\n",
      "   96   53   13   21]\n",
      "\n",
      "Extracting weights from layer: conv2_pointwise\n",
      "Weight Shape: (8,), Int8 Weights:\n",
      "[  59 -128   20  127   65  127 -108  127]\n",
      "\n",
      "Extracting weights from layer: conv3_depthwise\n",
      "Weight Shape: (16,), Int8 Weights:\n",
      "[ 127  -21  -43  -98  127   25  -98  -53 -128   29  -85   65   31  127\n",
      "  -17  -89]\n",
      "\n",
      "Extracting weights from layer: conv3_pointwise\n",
      "Weight Shape: (20,), Int8 Weights:\n",
      "[  24    5   39  127   50   40   29 -128  -87   70 -128   -7  -10 -112\n",
      " -128   26   68  -60 -128   16]\n",
      "\n",
      "Extracting weights from layer: fc\n",
      "Weight Shape: (50,), Int8 Weights:\n",
      "[ -18   57   95  -47 -128  -75  -61   35 -128   52  -47   60  127  -91\n",
      "   85    9  -47  -13  -31  127  -60   49   33   90 -128   22  -39 -128\n",
      "   19   12  -45   38 -127  -43  -94   25  -79  127   -4   -7   33 -105\n",
      "   -7 -128   28   21 -127    0   77  -66]\n",
      "\n",
      "The test accuracy after quantization is: 86.67%\n"
     ]
    }
   ],
   "source": [
    "# Test the model on the test dataset and store the accuracy\n",
    "model.eval()\n",
    "test_accuracy = test_model(model, test_loader)\n",
    "\n",
    "# Extract the int8 weights from all quantized layers in the model and save them to a list\n",
    "quantized_weights_list = print_quantized_weights(model)\n",
    "\n",
    "print(f\"The test accuracy after quantization is: {test_accuracy:.2f}%\")"
   ]
  }
 ],
 "metadata": {
  "kernelspec": {
   "display_name": "Auto4ET",
   "language": "python",
   "name": "python3"
  },
  "language_info": {
   "codemirror_mode": {
    "name": "ipython",
    "version": 3
   },
   "file_extension": ".py",
   "mimetype": "text/x-python",
   "name": "python",
   "nbconvert_exporter": "python",
   "pygments_lexer": "ipython3",
   "version": "3.9.18"
  }
 },
 "nbformat": 4,
 "nbformat_minor": 2
}

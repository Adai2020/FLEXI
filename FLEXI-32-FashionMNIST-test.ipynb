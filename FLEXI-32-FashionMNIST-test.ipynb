{
 "cells": [
  {
   "cell_type": "code",
   "execution_count": 5,
   "metadata": {},
   "outputs": [],
   "source": [
    "from imports import *\n",
    "from utils import *\n",
    "from model import *\n",
    "\n",
    "device = torch.device(\"cuda\" if torch.cuda.is_available() else \"cpu\")\n",
    "\n",
    "# Data loading\n",
    "\n",
    "transform = transforms.Compose([\n",
    "    transforms.ToTensor(),\n",
    "    transforms.Normalize((0.1307,), (0.3081,))\n",
    "])\n",
    "\n",
    "dataset = 'FashionMNIST'\n",
    "data_path = 'raw/'\n",
    "train_dataset = torchvision.datasets.FashionMNIST(root=data_path, train=True, download=True, transform=transform)\n",
    "test_dataset = torchvision.datasets.FashionMNIST(root=data_path, train=False, download=True, transform=transform)\n",
    "\n",
    "train_loader = DataLoader(train_dataset, batch_size=32, shuffle=True)\n",
    "test_loader = DataLoader(test_dataset, batch_size=32, shuffle=False)"
   ]
  },
  {
   "cell_type": "code",
   "execution_count": 6,
   "metadata": {},
   "outputs": [
    {
     "name": "stdout",
     "output_type": "stream",
     "text": [
      "The network has 3942 weights that need to be deployed.\n"
     ]
    }
   ],
   "source": [
    "# Model Definition\n",
    "\n",
    "# Define the number of classes for the classification task\n",
    "num_classes = 10\n",
    "\n",
    "# Initialize the model with the given configuration and number of classes, and move it to the specified device\n",
    "model = NET_32k_MNIST(num_classes).to(device)\n",
    "\n",
    "total_weights = count_weights(model)\n",
    "print(f\"The network has {total_weights} weights that need to be deployed.\")\n",
    "\n",
    "model.qconfig = torch.quantization.get_default_qat_qconfig('fbgemm')\n",
    "model = torch.quantization.prepare_qat(model, inplace=True)\n",
    "model = torch.quantization.convert(model, inplace=True)"
   ]
  },
  {
   "cell_type": "code",
   "execution_count": 7,
   "metadata": {},
   "outputs": [
    {
     "name": "stdout",
     "output_type": "stream",
     "text": [
      "NET_32k_MNIST(\n",
      "  (conv1): QuantizedConv2d(1, 10, kernel_size=(3, 3), stride=(1, 1), scale=0.13093020021915436, zero_point=76, padding=(1, 1))\n",
      "  (bn1): QuantizedBatchNorm2d(10, eps=1e-05, momentum=0.1, affine=True, track_running_stats=True)\n",
      "  (activation1): QuantizedHardswish()\n",
      "  (conv2): QuantizedConv2d(10, 12, kernel_size=(3, 3), stride=(1, 1), scale=0.42956021428108215, zero_point=94, padding=(1, 1))\n",
      "  (bn2): QuantizedBatchNorm2d(12, eps=1e-05, momentum=0.1, affine=True, track_running_stats=True)\n",
      "  (activation2): QuantizedHardswish()\n",
      "  (conv3): QuantizedConv2d(12, 14, kernel_size=(3, 3), stride=(1, 1), scale=0.18915767967700958, zero_point=55, padding=(1, 1))\n",
      "  (bn3): QuantizedBatchNorm2d(14, eps=1e-05, momentum=0.1, affine=True, track_running_stats=True)\n",
      "  (activation3): QuantizedHardswish()\n",
      "  (fc): QuantizedLinear(in_features=126, out_features=10, scale=0.424058735370636, zero_point=79, qscheme=torch.per_channel_affine)\n",
      "  (quant): Quantize(scale=tensor([0.0256]), zero_point=tensor([17]), dtype=torch.quint8)\n",
      "  (dequant): DeQuantize()\n",
      ")\n"
     ]
    }
   ],
   "source": [
    "# Load Pretrained Model\n",
    "\n",
    "# Specify the filename of the saved model\n",
    "model_filename = f\"checkpoint/FMNIST-3942-90.28_model.t7\"\n",
    "\n",
    "# Load the checkpoint from the file, mapping the model to the specified device\n",
    "checkpoint = torch.load(model_filename, map_location=device)\n",
    "\n",
    "# Load the model state dictionary from the checkpoint\n",
    "model.load_state_dict(checkpoint['model'])\n",
    "\n",
    "print(model) # The model has been quantized to int8"
   ]
  },
  {
   "cell_type": "code",
   "execution_count": 8,
   "metadata": {},
   "outputs": [
    {
     "name": "stdout",
     "output_type": "stream",
     "text": [
      "Extracting weights from layer: conv1\n",
      "Weight Shape: (90,), Int8 Weights:\n",
      "[ -47  -11   -9 -128  -35    4  -56  -11   39   37   -2  -36   62   61\n",
      " -128   21    1  -23 -128   58   56   33    1  -90   26  -31  -32   22\n",
      "  -28   12   -7 -128  -30  -14 -112  -39   -7   71 -128  -54   83   -1\n",
      "  -46   64  -17   39  -40   16   32  -37   30  -62  -64  127 -107  -16\n",
      "   70  127   95    2   -9  -13   28 -128   16  -44   56   -9  -38   69\n",
      "  -19   43   47 -127  -69   -9  -71  -81   46    8   46  -30  -25  127\n",
      "   48   12  -49  -41  -63  -42]\n",
      "\n",
      "Extracting weights from layer: conv2\n",
      "Weight Shape: (1080,), Int8 Weights:\n",
      "[ 39  12 -17 ... -22 -35 -21]\n",
      "\n",
      "Extracting weights from layer: conv3\n",
      "Weight Shape: (1512,), Int8 Weights:\n",
      "[  8 -31  10 ...  11 -14 -15]\n",
      "\n",
      "Extracting weights from layer: fc\n",
      "Weight Shape: (1260,), Int8 Weights:\n",
      "[ 12  31 -29 ...  10 -15  35]\n",
      "\n",
      "The test accuracy after quantization is: 90.28%\n"
     ]
    }
   ],
   "source": [
    "# Test the model on the test dataset and store the accuracy\n",
    "model.eval()\n",
    "test_accuracy = test_model(model, test_loader)\n",
    "\n",
    "# Extract the int8 weights from all quantized layers in the model and save them to a list\n",
    "quantized_weights_list = print_quantized_weights(model)\n",
    "\n",
    "print(f\"The test accuracy after quantization is: {test_accuracy:.2f}%\")"
   ]
  }
 ],
 "metadata": {
  "kernelspec": {
   "display_name": "Auto4ET",
   "language": "python",
   "name": "python3"
  },
  "language_info": {
   "codemirror_mode": {
    "name": "ipython",
    "version": 3
   },
   "file_extension": ".py",
   "mimetype": "text/x-python",
   "name": "python",
   "nbconvert_exporter": "python",
   "pygments_lexer": "ipython3",
   "version": "3.9.18"
  }
 },
 "nbformat": 4,
 "nbformat_minor": 2
}

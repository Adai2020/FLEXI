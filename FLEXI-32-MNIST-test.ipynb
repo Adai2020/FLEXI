{
 "cells": [
  {
   "cell_type": "code",
   "execution_count": 5,
   "metadata": {},
   "outputs": [],
   "source": [
    "from imports import *\n",
    "from utils import *\n",
    "from model import *\n",
    "\n",
    "device = torch.device(\"cuda\" if torch.cuda.is_available() else \"cpu\")\n",
    "\n",
    "# Data loading\n",
    "\n",
    "transform = transforms.Compose([\n",
    "    transforms.ToTensor(),\n",
    "    transforms.Normalize((0.1307,), (0.3081,))\n",
    "])\n",
    "\n",
    "dataset = 'MNIST'\n",
    "data_path = 'raw/'\n",
    "train_dataset = torchvision.datasets.MNIST(root=data_path, train=True, download=True, transform=transform)\n",
    "test_dataset = torchvision.datasets.MNIST(root=data_path, train=False, download=True, transform=transform)\n",
    "train_loader = DataLoader(train_dataset, batch_size=32, shuffle=True)\n",
    "test_loader = DataLoader(test_dataset, batch_size=32, shuffle=False)"
   ]
  },
  {
   "cell_type": "code",
   "execution_count": 6,
   "metadata": {},
   "outputs": [
    {
     "name": "stdout",
     "output_type": "stream",
     "text": [
      "The network has 3942 weights that need to be deployed.\n"
     ]
    }
   ],
   "source": [
    "# Model Definition\n",
    "\n",
    "num_classes = 10\n",
    "\n",
    "# Initialize the model with the given configuration and number of classes, and move it to the specified device\n",
    "model = NET_32k_MNIST(num_classes).to(device)\n",
    "\n",
    "total_weights = count_weights(model)\n",
    "print(f\"The network has {total_weights} weights that need to be deployed.\")\n",
    "\n",
    "model.qconfig = torch.quantization.get_default_qat_qconfig('fbgemm')\n",
    "model = torch.quantization.prepare_qat(model, inplace=True)\n",
    "model = torch.quantization.convert(model, inplace=True)"
   ]
  },
  {
   "cell_type": "code",
   "execution_count": 7,
   "metadata": {},
   "outputs": [
    {
     "name": "stdout",
     "output_type": "stream",
     "text": [
      "NET_32k_MNIST(\n",
      "  (conv1): QuantizedConv2d(1, 10, kernel_size=(3, 3), stride=(1, 1), scale=0.2065466344356537, zero_point=74, padding=(1, 1))\n",
      "  (bn1): QuantizedBatchNorm2d(10, eps=1e-05, momentum=0.1, affine=True, track_running_stats=True)\n",
      "  (activation1): QuantizedHardswish()\n",
      "  (conv2): QuantizedConv2d(10, 12, kernel_size=(3, 3), stride=(1, 1), scale=0.7286619544029236, zero_point=76, padding=(1, 1))\n",
      "  (bn2): QuantizedBatchNorm2d(12, eps=1e-05, momentum=0.1, affine=True, track_running_stats=True)\n",
      "  (activation2): QuantizedHardswish()\n",
      "  (conv3): QuantizedConv2d(12, 14, kernel_size=(3, 3), stride=(1, 1), scale=0.6075138449668884, zero_point=68, padding=(1, 1))\n",
      "  (bn3): QuantizedBatchNorm2d(14, eps=1e-05, momentum=0.1, affine=True, track_running_stats=True)\n",
      "  (activation3): QuantizedHardswish()\n",
      "  (fc): QuantizedLinear(in_features=126, out_features=10, scale=0.8871256709098816, zero_point=80, qscheme=torch.per_channel_affine)\n",
      "  (quant): Quantize(scale=tensor([0.0256]), zero_point=tensor([17]), dtype=torch.quint8)\n",
      "  (dequant): DeQuantize()\n",
      ")\n"
     ]
    }
   ],
   "source": [
    "# Load Pretrained Model\n",
    "\n",
    "# Specify the filename of the saved model\n",
    "model_filename = f\"checkpoint/MNIST-3942-99.13_model.t7\"\n",
    "\n",
    "# Load the checkpoint from the file, mapping the model to the specified device\n",
    "checkpoint = torch.load(model_filename, map_location=device)\n",
    "\n",
    "# Load the model state dictionary from the checkpoint\n",
    "model.load_state_dict(checkpoint['model'])\n",
    "\n",
    "print(model) # The model has been quantized to int8"
   ]
  },
  {
   "cell_type": "code",
   "execution_count": 8,
   "metadata": {},
   "outputs": [
    {
     "name": "stdout",
     "output_type": "stream",
     "text": [
      "Extracting weights from layer: conv1\n",
      "Weight Shape: (90,), Int8 Weights:\n",
      "[ -85   14   99  -68  127    0  -35   15   59  101   11   24  -18  -29\n",
      "   26   -6  127  -92   54  -26  -82    6  127   66  -54  -40   29  -11\n",
      " -107  -59  -45   -5  127   72   57  -16    6   37  -26   10   82  -76\n",
      " -128   93   22  127  -68   -7   48  -79  -23   -8  -44  -29   13   27\n",
      " -128   62  -14  -64   75   57    8   -1   76    5  127   15  -30  -41\n",
      " -111  -25   50   39   26  -36   30    2 -128  -61  -38  -44  -39  -11\n",
      "  -31  127   32   -6  -45  -59]\n",
      "\n",
      "Extracting weights from layer: conv2\n",
      "Weight Shape: (1080,), Int8 Weights:\n",
      "[ 36 -33 -28 ...  -5  27 -44]\n",
      "\n",
      "Extracting weights from layer: conv3\n",
      "Weight Shape: (1512,), Int8 Weights:\n",
      "[ 43 -11  29 ... -63 -44 -44]\n",
      "\n",
      "Extracting weights from layer: fc\n",
      "Weight Shape: (1260,), Int8 Weights:\n",
      "[  -5  -14   27 ...  -32  -19 -105]\n",
      "\n",
      "The test accuracy after quantization is: 99.13%\n"
     ]
    }
   ],
   "source": [
    "# Test the model on the test dataset and store the accuracy\n",
    "model.eval()\n",
    "test_accuracy = test_model(model, test_loader)\n",
    "\n",
    "# Extract the int8 weights from all quantized layers in the model and save them to a list\n",
    "quantized_weights_list = print_quantized_weights(model)\n",
    "\n",
    "print(f\"The test accuracy after quantization is: {test_accuracy:.2f}%\")"
   ]
  }
 ],
 "metadata": {
  "kernelspec": {
   "display_name": "Auto4ET",
   "language": "python",
   "name": "python3"
  },
  "language_info": {
   "codemirror_mode": {
    "name": "ipython",
    "version": 3
   },
   "file_extension": ".py",
   "mimetype": "text/x-python",
   "name": "python",
   "nbconvert_exporter": "python",
   "pygments_lexer": "ipython3",
   "version": "3.9.18"
  }
 },
 "nbformat": 4,
 "nbformat_minor": 2
}
